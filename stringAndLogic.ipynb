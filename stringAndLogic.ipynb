{
  "cells": [
    {
      "cell_type": "markdown",
      "source": [
        "<h1>String-1</h1>"
      ],
      "metadata": {
        "id": "bBydodorqnD_"
      }
    },
    {
      "cell_type": "code",
      "execution_count": 2,
      "metadata": {
        "colab": {
          "base_uri": "https://localhost:8080/",
          "height": 0
        },
        "id": "y-Kc3P7lG9xD",
        "outputId": "06cce69c-d4ae-4742-dc94-a5e8b5f3c724"
      },
      "outputs": [
        {
          "output_type": "stream",
          "name": "stdout",
          "text": [
            "Hello Panji!\n"
          ]
        }
      ],
      "source": [
        "def hello_name(name):\n",
        "  return 'Hello ' + name + '!'\n",
        "print(hello_name('Panji'))"
      ]
    },
    {
      "cell_type": "code",
      "source": [
        "def make_abba(a, b):\n",
        "  return a+b+b+a\n",
        "print(make_abba('Hi', 'Bye'))"
      ],
      "metadata": {
        "colab": {
          "base_uri": "https://localhost:8080/",
          "height": 0
        },
        "id": "K8Az-fc4nMn_",
        "outputId": "4dd61b66-75ab-43ca-8472-a35bea9bac83"
      },
      "execution_count": 5,
      "outputs": [
        {
          "output_type": "stream",
          "name": "stdout",
          "text": [
            "HiByeByeHi\n"
          ]
        }
      ]
    },
    {
      "cell_type": "code",
      "source": [
        "def make_tags(tag, word):\n",
        "  return '<' + tag + '>' + word + '</' + tag + '>'\n",
        "print(make_tags('i', 'Hello'))"
      ],
      "metadata": {
        "colab": {
          "base_uri": "https://localhost:8080/",
          "height": 0
        },
        "id": "rCbZp3eHnUcB",
        "outputId": "107bd697-7d80-4842-9ba7-4891c57794c3"
      },
      "execution_count": 3,
      "outputs": [
        {
          "output_type": "stream",
          "name": "stdout",
          "text": [
            "<i>Hello</i>\n"
          ]
        }
      ]
    },
    {
      "cell_type": "code",
      "source": [
        "def make_out_word(out, word):\n",
        "  return out[:2] + word + out[2:]\n",
        "print(make_out_word('<<>>', 'Yay'))"
      ],
      "metadata": {
        "colab": {
          "base_uri": "https://localhost:8080/",
          "height": 0
        },
        "id": "Lgg_V61UnYi6",
        "outputId": "da8f6d1d-07be-40f7-f47c-c1bfb4a71642"
      },
      "execution_count": 6,
      "outputs": [
        {
          "output_type": "stream",
          "name": "stdout",
          "text": [
            "<<Yay>>\n"
          ]
        }
      ]
    },
    {
      "cell_type": "code",
      "source": [
        "def extra_end(str):\n",
        "  return str[-2:] + str[-2:] + str[-2:]\n",
        "print(extra_end('Hello'))"
      ],
      "metadata": {
        "colab": {
          "base_uri": "https://localhost:8080/",
          "height": 0
        },
        "id": "_h2peQ8sndp0",
        "outputId": "5822915d-ab20-4266-9d51-8506c7fb6a6f"
      },
      "execution_count": 7,
      "outputs": [
        {
          "output_type": "stream",
          "name": "stdout",
          "text": [
            "lololo\n"
          ]
        }
      ]
    },
    {
      "cell_type": "code",
      "source": [
        "def first_two(str):\n",
        "  return str[:2]\n",
        "print(first_two('Hello'))"
      ],
      "metadata": {
        "colab": {
          "base_uri": "https://localhost:8080/",
          "height": 0
        },
        "id": "8xYkRgi6ndtn",
        "outputId": "2f69cb95-2a76-46ff-af20-30fed5e72dfb"
      },
      "execution_count": 8,
      "outputs": [
        {
          "output_type": "stream",
          "name": "stdout",
          "text": [
            "He\n"
          ]
        }
      ]
    },
    {
      "cell_type": "code",
      "source": [
        "def first_half(str):\n",
        "  half_length = len(str) // 2\n",
        "  return str[:half_length]\n",
        "print(first_half('WooHoo'))"
      ],
      "metadata": {
        "colab": {
          "base_uri": "https://localhost:8080/",
          "height": 0
        },
        "id": "Jc9k4U7tndyG",
        "outputId": "bf560296-b71c-4cdc-8953-3618268231e5"
      },
      "execution_count": 9,
      "outputs": [
        {
          "output_type": "stream",
          "name": "stdout",
          "text": [
            "Woo\n"
          ]
        }
      ]
    },
    {
      "cell_type": "code",
      "source": [
        "def without_end(str):\n",
        "  return str[1:-1]\n",
        "print(without_end('Hello'))"
      ],
      "metadata": {
        "colab": {
          "base_uri": "https://localhost:8080/",
          "height": 0
        },
        "id": "FT9k1V7_nd0a",
        "outputId": "88ac469f-04ff-4bb4-87bc-01d2ba2ef925"
      },
      "execution_count": 10,
      "outputs": [
        {
          "output_type": "stream",
          "name": "stdout",
          "text": [
            "ell\n"
          ]
        }
      ]
    },
    {
      "cell_type": "code",
      "source": [
        "def combo_string(a, b):\n",
        "  if len(a) < len(b):\n",
        "      short = a\n",
        "      long = b\n",
        "  else:\n",
        "      short = b\n",
        "      long = a\n",
        "  return short + long + short\n",
        "print(combo_string('Hello', 'hi'))"
      ],
      "metadata": {
        "colab": {
          "base_uri": "https://localhost:8080/",
          "height": 0
        },
        "id": "gmQ62W4mnd2w",
        "outputId": "6dca9dc4-190c-4469-caa5-dc6304856067"
      },
      "execution_count": 11,
      "outputs": [
        {
          "output_type": "stream",
          "name": "stdout",
          "text": [
            "hiHellohi\n"
          ]
        }
      ]
    },
    {
      "cell_type": "code",
      "source": [
        "def non_start(a, b):\n",
        "  return a[1:] + b[1:]\n",
        "print(non_start('Hello', 'There'))"
      ],
      "metadata": {
        "colab": {
          "base_uri": "https://localhost:8080/",
          "height": 0
        },
        "id": "CO7zSsXXnd5C",
        "outputId": "8bb3dca3-8426-4bb8-8301-2774e61846d8"
      },
      "execution_count": 12,
      "outputs": [
        {
          "output_type": "stream",
          "name": "stdout",
          "text": [
            "ellohere\n"
          ]
        }
      ]
    },
    {
      "cell_type": "code",
      "source": [
        "def left2(str):\n",
        "  return str[2:] + str[:2]\n",
        "print(left2('Hello'))"
      ],
      "metadata": {
        "colab": {
          "base_uri": "https://localhost:8080/",
          "height": 0
        },
        "id": "_-HeyOG8nd7b",
        "outputId": "effa0111-a153-4ad5-d459-efa5ebff54f6"
      },
      "execution_count": 13,
      "outputs": [
        {
          "output_type": "stream",
          "name": "stdout",
          "text": [
            "lloHe\n"
          ]
        }
      ]
    },
    {
      "cell_type": "markdown",
      "source": [
        "<h1>Logic-1</h1>"
      ],
      "metadata": {
        "id": "NmaleTA4q3mO"
      }
    },
    {
      "cell_type": "code",
      "source": [
        "def cigar_party(cigars, is_weekend):\n",
        "  if is_weekend:\n",
        "        return cigars >= 40\n",
        "  else:\n",
        "      return 40 <= cigars <= 60\n",
        "print(cigar_party(30, False))"
      ],
      "metadata": {
        "colab": {
          "base_uri": "https://localhost:8080/",
          "height": 0
        },
        "id": "HDFIH0fLpbCP",
        "outputId": "421e2d11-b4eb-409c-97d7-e54394108390"
      },
      "execution_count": 14,
      "outputs": [
        {
          "output_type": "stream",
          "name": "stdout",
          "text": [
            "False\n"
          ]
        }
      ]
    },
    {
      "cell_type": "code",
      "source": [
        "def date_fashion(you, date):\n",
        "  if you <= 2 or date <= 2:\n",
        "        return 0\n",
        "  elif you >= 8 or date >= 8:\n",
        "      return 2\n",
        "  else:\n",
        "      return 1\n",
        "print(date_fashion(5, 10))"
      ],
      "metadata": {
        "colab": {
          "base_uri": "https://localhost:8080/",
          "height": 0
        },
        "id": "UBb7Hc5ypbKf",
        "outputId": "68744273-2fb7-4573-8201-e056305952f7"
      },
      "execution_count": 15,
      "outputs": [
        {
          "output_type": "stream",
          "name": "stdout",
          "text": [
            "2\n"
          ]
        }
      ]
    },
    {
      "cell_type": "code",
      "source": [
        "def squirrel_play(temp, is_summer):\n",
        "  if is_summer:\n",
        "        return 60 <= temp <= 100\n",
        "  else:\n",
        "      return 60 <= temp <= 90\n",
        "print(squirrel_play(70, False))"
      ],
      "metadata": {
        "colab": {
          "base_uri": "https://localhost:8080/",
          "height": 0
        },
        "id": "Ia7zjg9CpbRQ",
        "outputId": "3cfaee51-85c2-4f9f-a58c-af26b6c67c01"
      },
      "execution_count": 16,
      "outputs": [
        {
          "output_type": "stream",
          "name": "stdout",
          "text": [
            "True\n"
          ]
        }
      ]
    },
    {
      "cell_type": "code",
      "source": [
        "def caught_speeding(speed, is_birthday):\n",
        "  if is_birthday:\n",
        "        speed -= 5\n",
        "\n",
        "  if speed <= 60:\n",
        "      return 0\n",
        "  elif 61 <= speed <= 80:\n",
        "      return 1\n",
        "  else:\n",
        "      return 2\n",
        "print(caught_speeding(65, False))"
      ],
      "metadata": {
        "colab": {
          "base_uri": "https://localhost:8080/",
          "height": 0
        },
        "id": "Bc7vvfOlpbXP",
        "outputId": "8a868308-0d3e-4a1f-8246-498c6ce0bf6b"
      },
      "execution_count": 17,
      "outputs": [
        {
          "output_type": "stream",
          "name": "stdout",
          "text": [
            "1\n"
          ]
        }
      ]
    },
    {
      "cell_type": "code",
      "source": [
        "def sorta_sum(a, b):\n",
        "  if 10 <= (a + b) <=19:\n",
        "    return 20\n",
        "  else:\n",
        "    return a+b\n",
        "print(sorta_sum(9, 4))"
      ],
      "metadata": {
        "colab": {
          "base_uri": "https://localhost:8080/",
          "height": 0
        },
        "id": "wQyLl_Qxpbc4",
        "outputId": "27c866cf-5267-4dd8-cf08-c19c3b6d74d3"
      },
      "execution_count": 18,
      "outputs": [
        {
          "output_type": "stream",
          "name": "stdout",
          "text": [
            "20\n"
          ]
        }
      ]
    },
    {
      "cell_type": "code",
      "source": [
        "def alarm_clock(day, vacation):\n",
        "  if vacation:\n",
        "      if day in [0, 6]:\n",
        "          return \"off\"\n",
        "      else:\n",
        "          return \"10:00\"\n",
        "  else:\n",
        "      if day in [0, 6]:\n",
        "          return \"10:00\"\n",
        "      else:\n",
        "          return \"7:00\"\n",
        "print(alarm_clock(1, False))"
      ],
      "metadata": {
        "colab": {
          "base_uri": "https://localhost:8080/",
          "height": 0
        },
        "id": "tC8tiPEzpbiV",
        "outputId": "6bc964d5-511a-4ece-dd3e-07ba9e4baa23"
      },
      "execution_count": 19,
      "outputs": [
        {
          "output_type": "stream",
          "name": "stdout",
          "text": [
            "7:00\n"
          ]
        }
      ]
    },
    {
      "cell_type": "code",
      "source": [
        "def love6(a, b):\n",
        "  return a == 6 or b == 6 or a + b == 6 or abs(a - b) == 6\n",
        "print(love6(6, 4))"
      ],
      "metadata": {
        "colab": {
          "base_uri": "https://localhost:8080/",
          "height": 0
        },
        "id": "chKUS_DepboF",
        "outputId": "65aecd65-d8de-4b24-8b6a-837cbe808e5b"
      },
      "execution_count": 20,
      "outputs": [
        {
          "output_type": "stream",
          "name": "stdout",
          "text": [
            "True\n"
          ]
        }
      ]
    },
    {
      "cell_type": "code",
      "source": [
        "def in1to10(n, outside_mode):\n",
        "  if outside_mode:\n",
        "        return n <= 1 or n >= 10\n",
        "  else:\n",
        "      return 1 <= n <= 10\n",
        "print(in1to10(5, False))"
      ],
      "metadata": {
        "colab": {
          "base_uri": "https://localhost:8080/",
          "height": 0
        },
        "id": "3UMwyuEEpbve",
        "outputId": "7ead9a52-364f-4a89-dd56-6a3648059da7"
      },
      "execution_count": 21,
      "outputs": [
        {
          "output_type": "stream",
          "name": "stdout",
          "text": [
            "True\n"
          ]
        }
      ]
    },
    {
      "cell_type": "code",
      "source": [
        "def near_ten(num):\n",
        "  return num % 10 <= 2 or num % 10 >= 8\n",
        "print(near_ten(12))"
      ],
      "metadata": {
        "colab": {
          "base_uri": "https://localhost:8080/",
          "height": 0
        },
        "id": "zCwTYdHnpb08",
        "outputId": "bdcb147f-803f-4d64-f93a-c3615b2f4dc5"
      },
      "execution_count": 23,
      "outputs": [
        {
          "output_type": "stream",
          "name": "stdout",
          "text": [
            "True\n"
          ]
        }
      ]
    }
  ],
  "metadata": {
    "colab": {
      "provenance": []
    },
    "kernelspec": {
      "display_name": "Python 3",
      "name": "python3"
    },
    "language_info": {
      "name": "python"
    }
  },
  "nbformat": 4,
  "nbformat_minor": 0
}